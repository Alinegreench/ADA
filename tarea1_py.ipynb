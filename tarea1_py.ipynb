{
 "cells": [
  {
   "cell_type": "code",
   "execution_count": 1,
   "id": "8101298a",
   "metadata": {},
   "outputs": [],
   "source": [
    "import numpy as np"
   ]
  },
  {
   "cell_type": "code",
   "execution_count": 3,
   "id": "5161c4bc",
   "metadata": {},
   "outputs": [
    {
     "name": "stdout",
     "output_type": "stream",
     "text": [
      "Resultado: [7, 0, 1, 3, 2, 2, 9, 5, 7, 2, 2, 5, 8, 3, 7, 4, 9, 9, 2, 2, 1, 1, 3, 2, 3, 4, 5, 2, 5, 2, 0]\n",
      "Número final: 7013229572258374992211323452520\n"
     ]
    }
   ],
   "source": [
    "c1 = [5, 6, 7, 8,7,3,11,0,1,2,3,4,9,9,7,2]   \n",
    "c2 = [1,2,3,4,9,9,7,2,5,6,7,8,7,3,11,0]   \n",
    "\n",
    "n = len(c1)\n",
    "m = len(c2)\n",
    "\n",
    "resultado = [0]*(n+m)  \n",
    "\n",
    "for i in range(n-1, -1, -1):        \n",
    "    for j in range(m-1, -1, -1):     \n",
    "        producto = c1[i] * c2[j]\n",
    "        pos = i + j + 1              \n",
    "        resultado[pos] += producto\n",
    "\n",
    "for k in range(len(resultado)-1, 0, -1):\n",
    "    if resultado[k] >= 10:\n",
    "        acarreo = resultado[k] // 10\n",
    "        resultado[k] = resultado[k] % 10\n",
    "        resultado[k-1] += acarreo\n",
    "\n",
    "inicio = 0\n",
    "while inicio < len(resultado) and resultado[inicio] == 0:\n",
    "    inicio += 1\n",
    "\n",
    "numero = 0\n",
    "print(\"Resultado:\", resultado[inicio:])\n",
    "\n",
    "for digito in resultado:\n",
    "    numero = numero * 10 + digito \n",
    "\n",
    "print(\"Número final:\", numero) \n"
   ]
  }
 ],
 "metadata": {
  "kernelspec": {
   "display_name": "Python 3",
   "language": "python",
   "name": "python3"
  },
  "language_info": {
   "codemirror_mode": {
    "name": "ipython",
    "version": 3
   },
   "file_extension": ".py",
   "mimetype": "text/x-python",
   "name": "python",
   "nbconvert_exporter": "python",
   "pygments_lexer": "ipython3",
   "version": "3.11.9"
  }
 },
 "nbformat": 4,
 "nbformat_minor": 5
}
